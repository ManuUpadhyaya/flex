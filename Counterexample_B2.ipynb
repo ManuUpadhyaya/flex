{
 "cells": [
  {
   "cell_type": "code",
   "execution_count": 1,
   "id": "90304c8b-acae-4bd9-80d9-fd537980fd3c",
   "metadata": {},
   "outputs": [
    {
     "data": {
      "text/latex": [
       "\\[\\large\\textbf{Counterexample B.2.}\\]"
      ],
      "text/plain": [
       "<IPython.core.display.Latex object>"
      ]
     },
     "metadata": {},
     "output_type": "display_data"
    },
    {
     "data": {
      "text/latex": [
       "\\[\\large\\textbf{Inclusion problem}\\]"
      ],
      "text/plain": [
       "<IPython.core.display.Latex object>"
      ]
     },
     "metadata": {},
     "output_type": "display_data"
    },
    {
     "data": {
      "text/latex": [
       "\\[0\\in F(z)+T(z),\\qquad z\\in\\mathbb{R}^2,\\ F(z)=A z,\\;T(z)=B z\\]"
      ],
      "text/plain": [
       "<IPython.core.display.Latex object>"
      ]
     },
     "metadata": {},
     "output_type": "display_data"
    },
    {
     "data": {
      "text/latex": [
       "\\[\\large\\textbf{Problem parameters  $(A,B)$}\\]"
      ],
      "text/plain": [
       "<IPython.core.display.Latex object>"
      ]
     },
     "metadata": {},
     "output_type": "display_data"
    },
    {
     "data": {
      "text/latex": [
       "\\[A=\\left[\\begin{matrix}0 & 9\\\\-9 & 0\\end{matrix}\\right],\\qquad B=\\left[\\begin{matrix}0 & -4\\\\4 & 0\\end{matrix}\\right]\\]"
      ],
      "text/plain": [
       "<IPython.core.display.Latex object>"
      ]
     },
     "metadata": {},
     "output_type": "display_data"
    },
    {
     "data": {
      "text/latex": [
       "\\[\\large\\textbf{Algorithm (Extragradient)}\\]"
      ],
      "text/plain": [
       "<IPython.core.display.Latex object>"
      ]
     },
     "metadata": {},
     "output_type": "display_data"
    },
    {
     "data": {
      "text/latex": [
       "\n",
       "\\[\n",
       "\\begin{aligned}\n",
       "\\bar z^{k} &= (\\mathrm{Id}+\\gamma T)^{-1}\\!\\bigl(z^{k}-\\gamma F(z^{k})\\bigr),\\\\[4pt]\n",
       "z^{k+1} &= (\\mathrm{Id}+\\gamma T)^{-1}\\!\\bigl(z^{k}-\\gamma F(\\bar z^{k})\\bigr).\n",
       "\\end{aligned}\n",
       "\\]\n"
      ],
      "text/plain": [
       "<IPython.core.display.Latex object>"
      ]
     },
     "metadata": {},
     "output_type": "display_data"
    },
    {
     "data": {
      "text/latex": [
       "\\[\\large\\textbf{Algorithm parameters}\\]"
      ],
      "text/plain": [
       "<IPython.core.display.Latex object>"
      ]
     },
     "metadata": {},
     "output_type": "display_data"
    },
    {
     "data": {
      "text/latex": [
       "\\[z^0=\\left[\\begin{matrix}10\\\\10\\end{matrix}\\right],\\qquad \\gamma=\\frac{1}{10}\\]"
      ],
      "text/plain": [
       "<IPython.core.display.Latex object>"
      ]
     },
     "metadata": {},
     "output_type": "display_data"
    },
    {
     "data": {
      "text/latex": [
       "\\[\\large\\textbf{One–step map  $C$}\\]"
      ],
      "text/plain": [
       "<IPython.core.display.Latex object>"
      ]
     },
     "metadata": {},
     "output_type": "display_data"
    },
    {
     "data": {
      "text/latex": [
       "\n",
       "\\[\n",
       "z^{k+1}\n",
       "= \\underbrace{\\bigl(I+\\gamma B\\bigr)^{-1}\n",
       "\\!\\Bigl(I-\\gamma A\\bigl(I+\\gamma B\\bigr)^{-1}(I-\\gamma A)\\Bigr)}_{=\\,C}\\,z^{k},\n",
       "\\]\n"
      ],
      "text/plain": [
       "<IPython.core.display.Latex object>"
      ]
     },
     "metadata": {},
     "output_type": "display_data"
    },
    {
     "data": {
      "text/latex": [
       "\\[C = \\left[\\begin{matrix}\\frac{2999}{3364} & - \\frac{1175}{1682}\\\\\\frac{1175}{1682} & \\frac{2999}{3364}\\end{matrix}\\right]\\]"
      ],
      "text/plain": [
       "<IPython.core.display.Latex object>"
      ]
     },
     "metadata": {},
     "output_type": "display_data"
    },
    {
     "data": {
      "text/latex": [
       "\\[\\rho(C)\\approx 1.132596\\]"
      ],
      "text/plain": [
       "<IPython.core.display.Latex object>"
      ]
     },
     "metadata": {},
     "output_type": "display_data"
    },
    {
     "data": {
      "text/latex": [
       "\\[\\large\\textbf{Eigenvalues of $C$}\\]"
      ],
      "text/plain": [
       "<IPython.core.display.Latex object>"
      ]
     },
     "metadata": {},
     "output_type": "display_data"
    },
    {
     "data": {
      "text/latex": [
       "\\[\\lambda_1(C)\\;\\approx\\;0.891498+0.698573i\\]"
      ],
      "text/plain": [
       "<IPython.core.display.Latex object>"
      ]
     },
     "metadata": {},
     "output_type": "display_data"
    },
    {
     "data": {
      "text/latex": [
       "\\[\\lambda_2(C)\\;\\approx\\;0.891498-0.698573i\\]"
      ],
      "text/plain": [
       "<IPython.core.display.Latex object>"
      ]
     },
     "metadata": {},
     "output_type": "display_data"
    },
    {
     "data": {
      "text/latex": [
       "\\[\\large\\textbf{Iterates}\\]"
      ],
      "text/plain": [
       "<IPython.core.display.Latex object>"
      ]
     },
     "metadata": {},
     "output_type": "display_data"
    },
    {
     "data": {
      "text/latex": [
       "\n",
       "\\[\n",
       "\\bar z^0=\\left[\\begin{matrix}\\frac{215}{29}\\\\\\frac{465}{29}\\end{matrix}\\right],\\quad\n",
       "z^1=\\left[\\begin{matrix}\\frac{3245}{1682}\\\\\\frac{26745}{1682}\\end{matrix}\\right],\\quad\n",
       "\\bar z^1=\\left[\\begin{matrix}- \\frac{447965}{97556}\\\\\\frac{1899785}{97556}\\end{matrix}\\right],\\quad\n",
       "z^2=\\left[\\begin{matrix}- \\frac{53118995}{5658248}\\\\\\frac{87834005}{5658248}\\end{matrix}\\right]\n",
       "\\]"
      ],
      "text/plain": [
       "<IPython.core.display.Latex object>"
      ]
     },
     "metadata": {},
     "output_type": "display_data"
    },
    {
     "data": {
      "text/latex": [
       "\\[\\large\\textbf{Lyapunov values  $\\mathcal{V}_{k}$}\\]"
      ],
      "text/plain": [
       "<IPython.core.display.Latex object>"
      ]
     },
     "metadata": {},
     "output_type": "display_data"
    },
    {
     "data": {
      "text/latex": [
       "\\[\\mathcal{V}_0=\\frac{5875000}{841}\\approx6985.731272,\\;\\mathcal{V}_1=\\frac{12676046875}{1414562}\\approx8961.110842\\]"
      ],
      "text/plain": [
       "<IPython.core.display.Latex object>"
      ]
     },
     "metadata": {},
     "output_type": "display_data"
    }
   ],
   "source": [
    "# Counterexample B.2. \n",
    "# ---------------------------------------------------\n",
    "import sympy as sp\n",
    "import numpy as np\n",
    "from IPython.display import display, Latex\n",
    "\n",
    "# ─── Problem data ──────────────────────────────────────────────────\n",
    "gamma = sp.Rational(1, 10)\n",
    "a, b  = sp.Rational(9), sp.Rational(-4)\n",
    "z0    = sp.Matrix([10, 10])\n",
    "\n",
    "I     = sp.eye(2)\n",
    "A     = sp.Matrix([[0,  a], [-a, 0]])\n",
    "B     = sp.Matrix([[0,  b], [-b, 0]])\n",
    "M     = I + gamma * B\n",
    "R     = M.inv()\n",
    "\n",
    "# One‑step map C\n",
    "C     = R * (I - gamma * A * R * (I - gamma * A))\n",
    "rho_C = max(abs(np.linalg.eigvals(np.array(C, dtype=float))))\n",
    "\n",
    "# Iteration k = 0,1\n",
    "zbar0 = R * (z0 - gamma*A*z0)\n",
    "z1    = R * (z0 - gamma*A*zbar0)\n",
    "zbar1 = R * (z1 - gamma*A*z1)\n",
    "z2    = R * (z1 - gamma*A*zbar1)\n",
    "\n",
    "# Lyapunov V\n",
    "def V(g, zk, zbar_k, zk1):\n",
    "    d     = zk - zk1\n",
    "    Fdiff = A*zk - A*zbar_k\n",
    "    return sp.simplify(\n",
    "        2*d.dot(Fdiff)/g\n",
    "        + (zk1 - zbar_k).dot(zk1 - zbar_k)/g**2\n",
    "        + d.dot(d)/g**2\n",
    "    )\n",
    "\n",
    "V0, V1 = V(gamma, z0, zbar0, z1), V(gamma, z1, zbar1, z2)\n",
    "\n",
    "# ─── Helper for section headings ───────────────────────────────────\n",
    "def title(text):\n",
    "    display(Latex(rf\"\\[\\large\\textbf{{{text}}}\\]\"))\n",
    "\n",
    "# ─── LaTeX report ─────────────────────────────────────────────────\n",
    "title(\"Counterexample B.2.\")\n",
    "title(\"Inclusion problem\")\n",
    "display(Latex(\n",
    "    r\"\\[0\\in F(z)+T(z),\\qquad z\\in\\mathbb{R}^2,\\ \"\n",
    "    r\"F(z)=A z,\\;T(z)=B z\\]\"\n",
    "))\n",
    "\n",
    "title(\"Problem parameters  $(A,B)$\")\n",
    "display(Latex(rf\"\\[A={sp.latex(A)},\\qquad B={sp.latex(B)}\\]\"))\n",
    "\n",
    "title(\"Algorithm (Extragradient)\")\n",
    "display(Latex(\n",
    "r\"\"\"\n",
    "\\[\n",
    "\\begin{aligned}\n",
    "\\bar z^{k} &= (\\mathrm{Id}+\\gamma T)^{-1}\\!\\bigl(z^{k}-\\gamma F(z^{k})\\bigr),\\\\[4pt]\n",
    "z^{k+1} &= (\\mathrm{Id}+\\gamma T)^{-1}\\!\\bigl(z^{k}-\\gamma F(\\bar z^{k})\\bigr).\n",
    "\\end{aligned}\n",
    "\\]\n",
    "\"\"\"\n",
    "))\n",
    "\n",
    "title(\"Algorithm parameters\")\n",
    "display(Latex(rf\"\\[z^{0}={sp.latex(z0)},\\qquad \\gamma={sp.latex(gamma)}\\]\"))\n",
    "\n",
    "title(\"One–step map  $C$\")\n",
    "display(Latex(\n",
    "r\"\"\"\n",
    "\\[\n",
    "z^{k+1}\n",
    "= \\underbrace{\\bigl(I+\\gamma B\\bigr)^{-1}\n",
    "\\!\\Bigl(I-\\gamma A\\bigl(I+\\gamma B\\bigr)^{-1}(I-\\gamma A)\\Bigr)}_{=\\,C}\\,z^{k},\n",
    "\\]\n",
    "\"\"\"\n",
    "))\n",
    "display(Latex(rf\"\\[C = {sp.latex(C)}\\]\"))\n",
    "display(Latex(rf\"\\[\\rho(C)\\approx {rho_C:.6f}\\]\"))\n",
    "\n",
    "title(\"Eigenvalues of $C$\")\n",
    "eigvals = np.linalg.eigvals(np.array(C, dtype=float))\n",
    "for i, ev in enumerate(eigvals, 1):\n",
    "    ev_str = f\"{ev.real:.6f}\" if abs(ev.imag) < 1e-12 else \\\n",
    "             f\"{ev.real:.6f}{'+' if ev.imag>=0 else '-'}{abs(ev.imag):.6f}i\"\n",
    "    display(Latex(rf\"\\[\\lambda_{i}(C)\\;\\approx\\;{ev_str}\\]\"))\n",
    "\n",
    "title(\"Iterates\")\n",
    "display(Latex(\n",
    "    rf\"\"\"\n",
    "\\[\n",
    "\\bar z^{0}={sp.latex(zbar0)},\\quad\n",
    "z^{1}={sp.latex(z1)},\\quad\n",
    "\\bar z^{1}={sp.latex(zbar1)},\\quad\n",
    "z^{2}={sp.latex(z2)}\n",
    "\\]\"\"\"\n",
    "))\n",
    "\n",
    "title(\"Lyapunov values  $\\mathcal{V}_{k}$\")\n",
    "display(Latex(\n",
    "    rf\"\\[\\mathcal{{V}}_0={sp.latex(V0)}\\approx{float(V0):.6f},\\;\"\n",
    "       rf\"\\mathcal{{V}}_1={sp.latex(V1)}\\approx{float(V1):.6f}\\]\"\n",
    "))\n"
   ]
  }
 ],
 "metadata": {
  "kernelspec": {
   "display_name": "Python 3 (ipykernel)",
   "language": "python",
   "name": "python3"
  },
  "language_info": {
   "codemirror_mode": {
    "name": "ipython",
    "version": 3
   },
   "file_extension": ".py",
   "mimetype": "text/x-python",
   "name": "python",
   "nbconvert_exporter": "python",
   "pygments_lexer": "ipython3",
   "version": "3.12.2"
  }
 },
 "nbformat": 4,
 "nbformat_minor": 5
}
