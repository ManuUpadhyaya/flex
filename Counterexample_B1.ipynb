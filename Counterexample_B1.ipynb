{
 "cells": [
  {
   "cell_type": "code",
   "execution_count": 1,
   "id": "9571b8cd-4ec4-40c6-8b56-54b2212b9ed2",
   "metadata": {},
   "outputs": [
    {
     "data": {
      "text/latex": [
       "\\[\\large\\textbf{Counterexample B.1.}\\]"
      ],
      "text/plain": [
       "<IPython.core.display.Latex object>"
      ]
     },
     "metadata": {},
     "output_type": "display_data"
    },
    {
     "data": {
      "text/latex": [
       "\\[\\large\\textbf{Inclusion problem}\\]"
      ],
      "text/plain": [
       "<IPython.core.display.Latex object>"
      ]
     },
     "metadata": {},
     "output_type": "display_data"
    },
    {
     "data": {
      "text/latex": [
       "\n",
       "\\[\n",
       "0 \\in F(z) + \\partial g(z),\\quad\n",
       "z\\in\\mathbb{R}^4,\\;\n",
       "F(z)=\n",
       "\\begin{bmatrix}\n",
       "A\\,x \\\\[4pt]\n",
       "-\\,A^{\\!\\top} y\n",
       "\\end{bmatrix},\\;\n",
       "g(z)=\n",
       "\\begin{cases}\n",
       "0 & \\text{if } x\\in[-7,6]^2,\\;y\\in[1,8]^2,\\\\\n",
       "+\\infty & \\text{otherwise}.\n",
       "\\end{cases}\n",
       "\\]\n"
      ],
      "text/plain": [
       "<IPython.core.display.Latex object>"
      ]
     },
     "metadata": {},
     "output_type": "display_data"
    },
    {
     "data": {
      "text/latex": [
       "\\[\\large\\textbf{Problem parameters}\\]"
      ],
      "text/plain": [
       "<IPython.core.display.Latex object>"
      ]
     },
     "metadata": {},
     "output_type": "display_data"
    },
    {
     "data": {
      "text/latex": [
       "\n",
       "\\[\n",
       "A = \\left[\\begin{matrix}7 & 6\\\\1 & 0\\end{matrix}\\right],\\qquad\n",
       "L_{F} = \\left\\lVert\\,\\begin{bmatrix} 0 & A \\\\ -A^{\\top} & 0 \\end{bmatrix}\\,\\right\\rVert \\approx 9.25091\n",
       "\\]"
      ],
      "text/plain": [
       "<IPython.core.display.Latex object>"
      ]
     },
     "metadata": {},
     "output_type": "display_data"
    },
    {
     "data": {
      "text/latex": [
       "\\[\\large\\textbf{Algorithm  (Tseng's FBF)}\\]"
      ],
      "text/plain": [
       "<IPython.core.display.Latex object>"
      ]
     },
     "metadata": {},
     "output_type": "display_data"
    },
    {
     "data": {
      "text/latex": [
       "\n",
       "\\[\n",
       "\\begin{aligned}\n",
       "\\bar z^{k} &= (\\mathrm{Id}+\\gamma T)^{-1}\\!\\bigl(z^{k}-\\gamma F(z^{k})\\bigr),\\\\[4pt]\n",
       "z^{k+1} &= \\bar z^{k} + \\gamma\\bigl(F(z^{k}) - F(\\bar z^{k})\\bigr).\n",
       "\\end{aligned}\n",
       "\\]\n"
      ],
      "text/plain": [
       "<IPython.core.display.Latex object>"
      ]
     },
     "metadata": {},
     "output_type": "display_data"
    },
    {
     "data": {
      "text/latex": [
       "\\[\\large\\textbf{Algorithm parameters}\\]"
      ],
      "text/plain": [
       "<IPython.core.display.Latex object>"
      ]
     },
     "metadata": {},
     "output_type": "display_data"
    },
    {
     "data": {
      "text/latex": [
       "\\[z^0=\\left[\\begin{matrix}-1\\\\-7\\\\-1\\\\7\\end{matrix}\\right],\\qquad \\gamma=\\frac{1}{10}\\]"
      ],
      "text/plain": [
       "<IPython.core.display.Latex object>"
      ]
     },
     "metadata": {},
     "output_type": "display_data"
    },
    {
     "data": {
      "text/latex": [
       "\\[\\large\\textbf{Iterates}\\]"
      ],
      "text/plain": [
       "<IPython.core.display.Latex object>"
      ]
     },
     "metadata": {},
     "output_type": "display_data"
    },
    {
     "data": {
      "text/latex": [
       "\n",
       "\\[\n",
       "\\bar z^0=\\left[\\begin{matrix}- \\frac{9}{2}\\\\- \\frac{69}{10}\\\\1\\\\\\frac{32}{5}\\end{matrix}\\right],\\quad\n",
       "z^1=\\left[\\begin{matrix}- \\frac{277}{50}\\\\- \\frac{71}{10}\\\\- \\frac{36}{25}\\\\\\frac{43}{10}\\end{matrix}\\right],\\quad\n",
       "\\bar z^1=\\left[\\begin{matrix}-7\\\\- \\frac{1739}{250}\\\\1\\\\1\\end{matrix}\\right]\n",
       "\\]"
      ],
      "text/plain": [
       "<IPython.core.display.Latex object>"
      ]
     },
     "metadata": {},
     "output_type": "display_data"
    },
    {
     "data": {
      "text/latex": [
       "\\[\\large\\textbf{Lyapunov values  $\\mathcal{V}_{k}$}\\]"
      ],
      "text/plain": [
       "<IPython.core.display.Latex object>"
      ]
     },
     "metadata": {},
     "output_type": "display_data"
    },
    {
     "data": {
      "text/latex": [
       "\n",
       "\\[\n",
       "\\mathcal{V}_0 = 1662,\\qquad\n",
       "\\mathcal{V}_1 = \\frac{1187246}{625} = 1899.5936\n",
       "\\]"
      ],
      "text/plain": [
       "<IPython.core.display.Latex object>"
      ]
     },
     "metadata": {},
     "output_type": "display_data"
    }
   ],
   "source": [
    "# Counterexample B.1.\n",
    "# --------------------------------------------------\n",
    "import sympy as sp\n",
    "from IPython.display import display, Latex\n",
    "\n",
    "# ─── Problem data ──────────────────────────────────────────────────\n",
    "gamma = sp.Rational(1, 10)\n",
    "xmin, xmax = -7, 6\n",
    "ymin, ymax = 1, 8\n",
    "z0   = sp.Matrix([-1, -7, -1, 7])          # initial point\n",
    "\n",
    "A    = sp.Matrix([[7, 6],\n",
    "                  [1, 0]])\n",
    "\n",
    "# Block matrix K = [[0, A]; [-Aᵀ, 0]]\n",
    "K = sp.Matrix([[ 0, 0,  7,  6],\n",
    "               [ 0, 0,  1,  0],\n",
    "               [-7, -1, 0,  0],\n",
    "               [-6,  0, 0,  0]])\n",
    "L_F = float(K.norm(2))                     # ≈ 9.25091\n",
    "\n",
    "# -------------------------------------------------------------------\n",
    "#  Helper operators (SymPy)\n",
    "# -------------------------------------------------------------------\n",
    "def F(z):\n",
    "    x, y = z[:2, :], z[2:, :]\n",
    "    return sp.Matrix.vstack(A*y, -A.T*x)\n",
    "\n",
    "def prox_box(z):\n",
    "    clip = lambda v, lo, hi: max(min(v, hi), lo)\n",
    "    x = z[:2, :].applyfunc(lambda v: clip(v, xmin, xmax))\n",
    "    y = z[2:, :].applyfunc(lambda v: clip(v, ymin, ymax))\n",
    "    return sp.Matrix.vstack(x, y)\n",
    "\n",
    "# -------------------------------------------------------------------\n",
    "#  Tseng iterations  k = 0,1\n",
    "# -------------------------------------------------------------------\n",
    "z0     = z0.as_mutable()\n",
    "zbar0  = prox_box(z0 - gamma*F(z0))\n",
    "z1     = zbar0 + gamma*(F(z0) - F(zbar0))\n",
    "\n",
    "zbar1  = prox_box(z1 - gamma*F(z1))\n",
    "\n",
    "# -------------------------------------------------------------------\n",
    "#  Lyapunov values  V_k = ||z^k - z̄^k||² / γ²\n",
    "# -------------------------------------------------------------------\n",
    "def V(z_k, zbar_k):\n",
    "    diff = z_k - zbar_k\n",
    "    return (diff.dot(diff)) / (gamma**2)\n",
    "\n",
    "V0, V1 = sp.nsimplify(V(z0,  zbar0)), sp.nsimplify(V(z1,  zbar1))\n",
    "\n",
    "# -------------------------------------------------------------------\n",
    "#  Display helpers\n",
    "# -------------------------------------------------------------------\n",
    "def title(text):\n",
    "    display(Latex(rf\"\\[\\large\\textbf{{{text}}}\\]\"))\n",
    "\n",
    "# ─── LaTeX report ─────────────────────────────────────────────────\n",
    "title(\"Counterexample B.1.\")\n",
    "\n",
    "# Inclusion problem\n",
    "title(\"Inclusion problem\")\n",
    "display(Latex(\n",
    "r\"\"\"\n",
    "\\[\n",
    "0 \\in F(z) + \\partial g(z),\\quad\n",
    "z\\in\\mathbb{R}^4,\\;\n",
    "F(z)=\n",
    "\\begin{bmatrix}\n",
    "A\\,x \\\\[4pt]\n",
    "-\\,A^{\\!\\top} y\n",
    "\\end{bmatrix},\\;\n",
    "g(z)=\n",
    "\\begin{cases}\n",
    "0 & \\text{if } x\\in[-7,6]^2,\\;y\\in[1,8]^2,\\\\\n",
    "+\\infty & \\text{otherwise}.\n",
    "\\end{cases}\n",
    "\\]\n",
    "\"\"\"))\n",
    "\n",
    "# Problem parameters\n",
    "title(\"Problem parameters\")\n",
    "block_tex = r\"\\begin{bmatrix} 0 & A \\\\ -A^{\\top} & 0 \\end{bmatrix}\"\n",
    "display(Latex(\n",
    "rf\"\"\"\n",
    "\\[\n",
    "A = {sp.latex(A)},\\qquad\n",
    "L_{{F}} = \\left\\lVert\\,{block_tex}\\,\\right\\rVert \\approx {L_F:.5f}\n",
    "\\]\"\"\"))\n",
    "\n",
    "# Algorithm description\n",
    "title(\"Algorithm  (Tseng's FBF)\")\n",
    "display(Latex(\n",
    "r\"\"\"\n",
    "\\[\n",
    "\\begin{aligned}\n",
    "\\bar z^{k} &= (\\mathrm{Id}+\\gamma T)^{-1}\\!\\bigl(z^{k}-\\gamma F(z^{k})\\bigr),\\\\[4pt]\n",
    "z^{k+1} &= \\bar z^{k} + \\gamma\\bigl(F(z^{k}) - F(\\bar z^{k})\\bigr).\n",
    "\\end{aligned}\n",
    "\\]\n",
    "\"\"\"))\n",
    "\n",
    "# Algorithm parameters\n",
    "title(\"Algorithm parameters\")\n",
    "display(Latex(rf\"\\[z^{0}={sp.latex(z0)},\\qquad \\gamma={sp.latex(gamma)}\\]\"))\n",
    "\n",
    "# Iterates\n",
    "title(\"Iterates\")\n",
    "display(Latex(\n",
    "rf\"\"\"\n",
    "\\[\n",
    "\\bar z^{0}={sp.latex(zbar0)},\\quad\n",
    "z^{1}={sp.latex(z1)},\\quad\n",
    "\\bar z^{1}={sp.latex(zbar1)}\n",
    "\\]\"\"\"))\n",
    "\n",
    "# Lyapunov values\n",
    "title(\"Lyapunov values  $\\mathcal{V}_{k}$\")\n",
    "display(Latex(\n",
    "rf\"\"\"\n",
    "\\[\n",
    "\\mathcal{{V}}_0 = {sp.latex(V0)},\\qquad\n",
    "\\mathcal{{V}}_1 = {sp.latex(V1)} = {float(V1):.4f}\n",
    "\\]\"\"\"))\n"
   ]
  }
 ],
 "metadata": {
  "kernelspec": {
   "display_name": "Python 3 (ipykernel)",
   "language": "python",
   "name": "python3"
  },
  "language_info": {
   "codemirror_mode": {
    "name": "ipython",
    "version": 3
   },
   "file_extension": ".py",
   "mimetype": "text/x-python",
   "name": "python",
   "nbconvert_exporter": "python",
   "pygments_lexer": "ipython3",
   "version": "3.12.2"
  }
 },
 "nbformat": 4,
 "nbformat_minor": 5
}
